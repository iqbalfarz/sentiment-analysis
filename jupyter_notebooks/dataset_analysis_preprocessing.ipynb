{
 "cells": [
  {
   "cell_type": "markdown",
   "id": "5c12bace",
   "metadata": {},
   "source": [
    "## Data Analysis and preprocessing\n",
    "\n",
    "In this notebook we will try to understand the dataset and preprocess it to be used for further use, means training the ML and DL models on top of this."
   ]
  },
  {
   "cell_type": "code",
   "execution_count": 1,
   "id": "0521925a",
   "metadata": {},
   "outputs": [],
   "source": [
    "# !pip install numpy pandas matplotlib seaborn sklearn nltk "
   ]
  },
  {
   "cell_type": "markdown",
   "id": "c1d6a77f",
   "metadata": {},
   "source": [
    "#### Imports"
   ]
  },
  {
   "cell_type": "code",
   "execution_count": 22,
   "id": "f1e4342d",
   "metadata": {},
   "outputs": [],
   "source": [
    "from pathlib import Path\n",
    "\n",
    "import numpy as np\n",
    "import pandas as pd\n",
    "import matplotlib.pyplot as plt\n",
    "import seaborn as sns\n",
    "\n",
    "from time import time\n",
    "\n",
    "import warnings\n",
    "warnings.filterwarnings(\"ignore\")"
   ]
  },
  {
   "cell_type": "markdown",
   "id": "360103de",
   "metadata": {},
   "source": [
    "#### Loading train and test dataset"
   ]
  },
  {
   "cell_type": "code",
   "execution_count": 23,
   "id": "f995590d",
   "metadata": {},
   "outputs": [],
   "source": [
    "dataset_dir = Path(\"../dataset\")\n",
    "train_dataset_path = dataset_dir/\"train.csv\"\n",
    "test_dataset_path = dataset_dir/\"test.csv\""
   ]
  },
  {
   "cell_type": "code",
   "execution_count": 24,
   "id": "728b159a",
   "metadata": {},
   "outputs": [],
   "source": [
    "# load train and test dataset\n",
    "train = pd.read_csv(open(train_dataset_path,\"r\"), header=None)\n",
    "test = pd.read_csv(open(test_dataset_path,\"r\"), header=None)"
   ]
  },
  {
   "cell_type": "markdown",
   "id": "559c3a59",
   "metadata": {},
   "source": [
    "#### Preprocess TRAIN dataset"
   ]
  },
  {
   "cell_type": "code",
   "execution_count": 25,
   "id": "0d4dc4ba",
   "metadata": {},
   "outputs": [
    {
     "data": {
      "text/html": [
       "<div>\n",
       "<style scoped>\n",
       "    .dataframe tbody tr th:only-of-type {\n",
       "        vertical-align: middle;\n",
       "    }\n",
       "\n",
       "    .dataframe tbody tr th {\n",
       "        vertical-align: top;\n",
       "    }\n",
       "\n",
       "    .dataframe thead th {\n",
       "        text-align: right;\n",
       "    }\n",
       "</style>\n",
       "<table border=\"1\" class=\"dataframe\">\n",
       "  <thead>\n",
       "    <tr style=\"text-align: right;\">\n",
       "      <th></th>\n",
       "      <th>0</th>\n",
       "      <th>1</th>\n",
       "      <th>2</th>\n",
       "      <th>3</th>\n",
       "      <th>4</th>\n",
       "      <th>5</th>\n",
       "    </tr>\n",
       "  </thead>\n",
       "  <tbody>\n",
       "    <tr>\n",
       "      <th>0</th>\n",
       "      <td>0</td>\n",
       "      <td>1467810369</td>\n",
       "      <td>Mon Apr 06 22:19:45 PDT 2009</td>\n",
       "      <td>NO_QUERY</td>\n",
       "      <td>_TheSpecialOne_</td>\n",
       "      <td>@switchfoot http://twitpic.com/2y1zl - Awww, t...</td>\n",
       "    </tr>\n",
       "    <tr>\n",
       "      <th>1</th>\n",
       "      <td>0</td>\n",
       "      <td>1467810672</td>\n",
       "      <td>Mon Apr 06 22:19:49 PDT 2009</td>\n",
       "      <td>NO_QUERY</td>\n",
       "      <td>scotthamilton</td>\n",
       "      <td>is upset that he can't update his Facebook by ...</td>\n",
       "    </tr>\n",
       "    <tr>\n",
       "      <th>2</th>\n",
       "      <td>0</td>\n",
       "      <td>1467810917</td>\n",
       "      <td>Mon Apr 06 22:19:53 PDT 2009</td>\n",
       "      <td>NO_QUERY</td>\n",
       "      <td>mattycus</td>\n",
       "      <td>@Kenichan I dived many times for the ball. Man...</td>\n",
       "    </tr>\n",
       "    <tr>\n",
       "      <th>3</th>\n",
       "      <td>0</td>\n",
       "      <td>1467811184</td>\n",
       "      <td>Mon Apr 06 22:19:57 PDT 2009</td>\n",
       "      <td>NO_QUERY</td>\n",
       "      <td>ElleCTF</td>\n",
       "      <td>my whole body feels itchy and like its on fire</td>\n",
       "    </tr>\n",
       "    <tr>\n",
       "      <th>4</th>\n",
       "      <td>0</td>\n",
       "      <td>1467811193</td>\n",
       "      <td>Mon Apr 06 22:19:57 PDT 2009</td>\n",
       "      <td>NO_QUERY</td>\n",
       "      <td>Karoli</td>\n",
       "      <td>@nationwideclass no, it's not behaving at all....</td>\n",
       "    </tr>\n",
       "  </tbody>\n",
       "</table>\n",
       "</div>"
      ],
      "text/plain": [
       "   0           1                             2         3                4  \\\n",
       "0  0  1467810369  Mon Apr 06 22:19:45 PDT 2009  NO_QUERY  _TheSpecialOne_   \n",
       "1  0  1467810672  Mon Apr 06 22:19:49 PDT 2009  NO_QUERY    scotthamilton   \n",
       "2  0  1467810917  Mon Apr 06 22:19:53 PDT 2009  NO_QUERY         mattycus   \n",
       "3  0  1467811184  Mon Apr 06 22:19:57 PDT 2009  NO_QUERY          ElleCTF   \n",
       "4  0  1467811193  Mon Apr 06 22:19:57 PDT 2009  NO_QUERY           Karoli   \n",
       "\n",
       "                                                   5  \n",
       "0  @switchfoot http://twitpic.com/2y1zl - Awww, t...  \n",
       "1  is upset that he can't update his Facebook by ...  \n",
       "2  @Kenichan I dived many times for the ball. Man...  \n",
       "3    my whole body feels itchy and like its on fire   \n",
       "4  @nationwideclass no, it's not behaving at all....  "
      ]
     },
     "execution_count": 25,
     "metadata": {},
     "output_type": "execute_result"
    }
   ],
   "source": [
    "# head of the dataset\n",
    "train.head()"
   ]
  },
  {
   "cell_type": "code",
   "execution_count": 26,
   "id": "99b01e25",
   "metadata": {},
   "outputs": [
    {
     "data": {
      "text/html": [
       "<div>\n",
       "<style scoped>\n",
       "    .dataframe tbody tr th:only-of-type {\n",
       "        vertical-align: middle;\n",
       "    }\n",
       "\n",
       "    .dataframe tbody tr th {\n",
       "        vertical-align: top;\n",
       "    }\n",
       "\n",
       "    .dataframe thead th {\n",
       "        text-align: right;\n",
       "    }\n",
       "</style>\n",
       "<table border=\"1\" class=\"dataframe\">\n",
       "  <thead>\n",
       "    <tr style=\"text-align: right;\">\n",
       "      <th></th>\n",
       "      <th>0</th>\n",
       "      <th>1</th>\n",
       "      <th>2</th>\n",
       "      <th>3</th>\n",
       "      <th>4</th>\n",
       "      <th>5</th>\n",
       "    </tr>\n",
       "  </thead>\n",
       "  <tbody>\n",
       "    <tr>\n",
       "      <th>1599995</th>\n",
       "      <td>4</td>\n",
       "      <td>2193601966</td>\n",
       "      <td>Tue Jun 16 08:40:49 PDT 2009</td>\n",
       "      <td>NO_QUERY</td>\n",
       "      <td>AmandaMarie1028</td>\n",
       "      <td>Just woke up. Having no school is the best fee...</td>\n",
       "    </tr>\n",
       "    <tr>\n",
       "      <th>1599996</th>\n",
       "      <td>4</td>\n",
       "      <td>2193601969</td>\n",
       "      <td>Tue Jun 16 08:40:49 PDT 2009</td>\n",
       "      <td>NO_QUERY</td>\n",
       "      <td>TheWDBoards</td>\n",
       "      <td>TheWDB.com - Very cool to hear old Walt interv...</td>\n",
       "    </tr>\n",
       "    <tr>\n",
       "      <th>1599997</th>\n",
       "      <td>4</td>\n",
       "      <td>2193601991</td>\n",
       "      <td>Tue Jun 16 08:40:49 PDT 2009</td>\n",
       "      <td>NO_QUERY</td>\n",
       "      <td>bpbabe</td>\n",
       "      <td>Are you ready for your MoJo Makeover? Ask me f...</td>\n",
       "    </tr>\n",
       "    <tr>\n",
       "      <th>1599998</th>\n",
       "      <td>4</td>\n",
       "      <td>2193602064</td>\n",
       "      <td>Tue Jun 16 08:40:49 PDT 2009</td>\n",
       "      <td>NO_QUERY</td>\n",
       "      <td>tinydiamondz</td>\n",
       "      <td>Happy 38th Birthday to my boo of alll time!!! ...</td>\n",
       "    </tr>\n",
       "    <tr>\n",
       "      <th>1599999</th>\n",
       "      <td>4</td>\n",
       "      <td>2193602129</td>\n",
       "      <td>Tue Jun 16 08:40:50 PDT 2009</td>\n",
       "      <td>NO_QUERY</td>\n",
       "      <td>RyanTrevMorris</td>\n",
       "      <td>happy #charitytuesday @theNSPCC @SparksCharity...</td>\n",
       "    </tr>\n",
       "  </tbody>\n",
       "</table>\n",
       "</div>"
      ],
      "text/plain": [
       "         0           1                             2         3  \\\n",
       "1599995  4  2193601966  Tue Jun 16 08:40:49 PDT 2009  NO_QUERY   \n",
       "1599996  4  2193601969  Tue Jun 16 08:40:49 PDT 2009  NO_QUERY   \n",
       "1599997  4  2193601991  Tue Jun 16 08:40:49 PDT 2009  NO_QUERY   \n",
       "1599998  4  2193602064  Tue Jun 16 08:40:49 PDT 2009  NO_QUERY   \n",
       "1599999  4  2193602129  Tue Jun 16 08:40:50 PDT 2009  NO_QUERY   \n",
       "\n",
       "                       4                                                  5  \n",
       "1599995  AmandaMarie1028  Just woke up. Having no school is the best fee...  \n",
       "1599996      TheWDBoards  TheWDB.com - Very cool to hear old Walt interv...  \n",
       "1599997           bpbabe  Are you ready for your MoJo Makeover? Ask me f...  \n",
       "1599998     tinydiamondz  Happy 38th Birthday to my boo of alll time!!! ...  \n",
       "1599999   RyanTrevMorris  happy #charitytuesday @theNSPCC @SparksCharity...  "
      ]
     },
     "execution_count": 26,
     "metadata": {},
     "output_type": "execute_result"
    }
   ],
   "source": [
    "train.tail()"
   ]
  },
  {
   "cell_type": "markdown",
   "id": "b8706c1f",
   "metadata": {},
   "source": [
    "<b>For the Sentiment Classifier we just need two columns `0` (sentiment_score) and `5` (actual tweet)"
   ]
  },
  {
   "cell_type": "code",
   "execution_count": 27,
   "id": "65a38fac",
   "metadata": {},
   "outputs": [
    {
     "data": {
      "text/html": [
       "<div>\n",
       "<style scoped>\n",
       "    .dataframe tbody tr th:only-of-type {\n",
       "        vertical-align: middle;\n",
       "    }\n",
       "\n",
       "    .dataframe tbody tr th {\n",
       "        vertical-align: top;\n",
       "    }\n",
       "\n",
       "    .dataframe thead th {\n",
       "        text-align: right;\n",
       "    }\n",
       "</style>\n",
       "<table border=\"1\" class=\"dataframe\">\n",
       "  <thead>\n",
       "    <tr style=\"text-align: right;\">\n",
       "      <th></th>\n",
       "      <th>0</th>\n",
       "      <th>5</th>\n",
       "    </tr>\n",
       "  </thead>\n",
       "  <tbody>\n",
       "    <tr>\n",
       "      <th>0</th>\n",
       "      <td>0</td>\n",
       "      <td>@switchfoot http://twitpic.com/2y1zl - Awww, t...</td>\n",
       "    </tr>\n",
       "    <tr>\n",
       "      <th>1</th>\n",
       "      <td>0</td>\n",
       "      <td>is upset that he can't update his Facebook by ...</td>\n",
       "    </tr>\n",
       "    <tr>\n",
       "      <th>2</th>\n",
       "      <td>0</td>\n",
       "      <td>@Kenichan I dived many times for the ball. Man...</td>\n",
       "    </tr>\n",
       "    <tr>\n",
       "      <th>3</th>\n",
       "      <td>0</td>\n",
       "      <td>my whole body feels itchy and like its on fire</td>\n",
       "    </tr>\n",
       "    <tr>\n",
       "      <th>4</th>\n",
       "      <td>0</td>\n",
       "      <td>@nationwideclass no, it's not behaving at all....</td>\n",
       "    </tr>\n",
       "  </tbody>\n",
       "</table>\n",
       "</div>"
      ],
      "text/plain": [
       "   0                                                  5\n",
       "0  0  @switchfoot http://twitpic.com/2y1zl - Awww, t...\n",
       "1  0  is upset that he can't update his Facebook by ...\n",
       "2  0  @Kenichan I dived many times for the ball. Man...\n",
       "3  0    my whole body feels itchy and like its on fire \n",
       "4  0  @nationwideclass no, it's not behaving at all...."
      ]
     },
     "execution_count": 27,
     "metadata": {},
     "output_type": "execute_result"
    }
   ],
   "source": [
    "train = train[[0,5]]\n",
    "train.head()"
   ]
  },
  {
   "cell_type": "code",
   "execution_count": 28,
   "id": "dcb5ac44",
   "metadata": {},
   "outputs": [
    {
     "data": {
      "text/html": [
       "<div>\n",
       "<style scoped>\n",
       "    .dataframe tbody tr th:only-of-type {\n",
       "        vertical-align: middle;\n",
       "    }\n",
       "\n",
       "    .dataframe tbody tr th {\n",
       "        vertical-align: top;\n",
       "    }\n",
       "\n",
       "    .dataframe thead th {\n",
       "        text-align: right;\n",
       "    }\n",
       "</style>\n",
       "<table border=\"1\" class=\"dataframe\">\n",
       "  <thead>\n",
       "    <tr style=\"text-align: right;\">\n",
       "      <th></th>\n",
       "      <th>0</th>\n",
       "      <th>5</th>\n",
       "    </tr>\n",
       "  </thead>\n",
       "  <tbody>\n",
       "    <tr>\n",
       "      <th>0</th>\n",
       "      <td>4</td>\n",
       "      <td>@stellargirl I loooooooovvvvvveee my Kindle2. ...</td>\n",
       "    </tr>\n",
       "    <tr>\n",
       "      <th>1</th>\n",
       "      <td>4</td>\n",
       "      <td>Reading my kindle2...  Love it... Lee childs i...</td>\n",
       "    </tr>\n",
       "    <tr>\n",
       "      <th>2</th>\n",
       "      <td>4</td>\n",
       "      <td>Ok, first assesment of the #kindle2 ...it fuck...</td>\n",
       "    </tr>\n",
       "    <tr>\n",
       "      <th>3</th>\n",
       "      <td>4</td>\n",
       "      <td>@kenburbary You'll love your Kindle2. I've had...</td>\n",
       "    </tr>\n",
       "    <tr>\n",
       "      <th>4</th>\n",
       "      <td>4</td>\n",
       "      <td>@mikefish  Fair enough. But i have the Kindle2...</td>\n",
       "    </tr>\n",
       "  </tbody>\n",
       "</table>\n",
       "</div>"
      ],
      "text/plain": [
       "   0                                                  5\n",
       "0  4  @stellargirl I loooooooovvvvvveee my Kindle2. ...\n",
       "1  4  Reading my kindle2...  Love it... Lee childs i...\n",
       "2  4  Ok, first assesment of the #kindle2 ...it fuck...\n",
       "3  4  @kenburbary You'll love your Kindle2. I've had...\n",
       "4  4  @mikefish  Fair enough. But i have the Kindle2..."
      ]
     },
     "execution_count": 28,
     "metadata": {},
     "output_type": "execute_result"
    }
   ],
   "source": [
    "# do the same for test dataset\n",
    "test = test[[0,5]]\n",
    "test.head()"
   ]
  },
  {
   "cell_type": "markdown",
   "id": "5536dc3d",
   "metadata": {},
   "source": [
    "#### Rename the column name as tweet and sentiment_score"
   ]
  },
  {
   "cell_type": "code",
   "execution_count": 29,
   "id": "78cfff1f",
   "metadata": {},
   "outputs": [],
   "source": [
    "# renaming the column\n",
    "test.columns = [\"sentiment_score\",\"tweet\"]\n",
    "train.columns = [\"sentiment_score\",\"tweet\"]"
   ]
  },
  {
   "cell_type": "code",
   "execution_count": 30,
   "id": "9181213a",
   "metadata": {},
   "outputs": [
    {
     "data": {
      "text/html": [
       "<div>\n",
       "<style scoped>\n",
       "    .dataframe tbody tr th:only-of-type {\n",
       "        vertical-align: middle;\n",
       "    }\n",
       "\n",
       "    .dataframe tbody tr th {\n",
       "        vertical-align: top;\n",
       "    }\n",
       "\n",
       "    .dataframe thead th {\n",
       "        text-align: right;\n",
       "    }\n",
       "</style>\n",
       "<table border=\"1\" class=\"dataframe\">\n",
       "  <thead>\n",
       "    <tr style=\"text-align: right;\">\n",
       "      <th></th>\n",
       "      <th>sentiment_score</th>\n",
       "      <th>tweet</th>\n",
       "    </tr>\n",
       "  </thead>\n",
       "  <tbody>\n",
       "    <tr>\n",
       "      <th>0</th>\n",
       "      <td>4</td>\n",
       "      <td>@stellargirl I loooooooovvvvvveee my Kindle2. ...</td>\n",
       "    </tr>\n",
       "    <tr>\n",
       "      <th>1</th>\n",
       "      <td>4</td>\n",
       "      <td>Reading my kindle2...  Love it... Lee childs i...</td>\n",
       "    </tr>\n",
       "    <tr>\n",
       "      <th>2</th>\n",
       "      <td>4</td>\n",
       "      <td>Ok, first assesment of the #kindle2 ...it fuck...</td>\n",
       "    </tr>\n",
       "    <tr>\n",
       "      <th>3</th>\n",
       "      <td>4</td>\n",
       "      <td>@kenburbary You'll love your Kindle2. I've had...</td>\n",
       "    </tr>\n",
       "    <tr>\n",
       "      <th>4</th>\n",
       "      <td>4</td>\n",
       "      <td>@mikefish  Fair enough. But i have the Kindle2...</td>\n",
       "    </tr>\n",
       "  </tbody>\n",
       "</table>\n",
       "</div>"
      ],
      "text/plain": [
       "   sentiment_score                                              tweet\n",
       "0                4  @stellargirl I loooooooovvvvvveee my Kindle2. ...\n",
       "1                4  Reading my kindle2...  Love it... Lee childs i...\n",
       "2                4  Ok, first assesment of the #kindle2 ...it fuck...\n",
       "3                4  @kenburbary You'll love your Kindle2. I've had...\n",
       "4                4  @mikefish  Fair enough. But i have the Kindle2..."
      ]
     },
     "execution_count": 30,
     "metadata": {},
     "output_type": "execute_result"
    }
   ],
   "source": [
    "test.head()"
   ]
  },
  {
   "cell_type": "code",
   "execution_count": 31,
   "id": "abf8e8df",
   "metadata": {},
   "outputs": [
    {
     "data": {
      "text/html": [
       "<div>\n",
       "<style scoped>\n",
       "    .dataframe tbody tr th:only-of-type {\n",
       "        vertical-align: middle;\n",
       "    }\n",
       "\n",
       "    .dataframe tbody tr th {\n",
       "        vertical-align: top;\n",
       "    }\n",
       "\n",
       "    .dataframe thead th {\n",
       "        text-align: right;\n",
       "    }\n",
       "</style>\n",
       "<table border=\"1\" class=\"dataframe\">\n",
       "  <thead>\n",
       "    <tr style=\"text-align: right;\">\n",
       "      <th></th>\n",
       "      <th>sentiment_score</th>\n",
       "      <th>tweet</th>\n",
       "    </tr>\n",
       "  </thead>\n",
       "  <tbody>\n",
       "    <tr>\n",
       "      <th>0</th>\n",
       "      <td>0</td>\n",
       "      <td>@switchfoot http://twitpic.com/2y1zl - Awww, t...</td>\n",
       "    </tr>\n",
       "    <tr>\n",
       "      <th>1</th>\n",
       "      <td>0</td>\n",
       "      <td>is upset that he can't update his Facebook by ...</td>\n",
       "    </tr>\n",
       "    <tr>\n",
       "      <th>2</th>\n",
       "      <td>0</td>\n",
       "      <td>@Kenichan I dived many times for the ball. Man...</td>\n",
       "    </tr>\n",
       "    <tr>\n",
       "      <th>3</th>\n",
       "      <td>0</td>\n",
       "      <td>my whole body feels itchy and like its on fire</td>\n",
       "    </tr>\n",
       "    <tr>\n",
       "      <th>4</th>\n",
       "      <td>0</td>\n",
       "      <td>@nationwideclass no, it's not behaving at all....</td>\n",
       "    </tr>\n",
       "  </tbody>\n",
       "</table>\n",
       "</div>"
      ],
      "text/plain": [
       "   sentiment_score                                              tweet\n",
       "0                0  @switchfoot http://twitpic.com/2y1zl - Awww, t...\n",
       "1                0  is upset that he can't update his Facebook by ...\n",
       "2                0  @Kenichan I dived many times for the ball. Man...\n",
       "3                0    my whole body feels itchy and like its on fire \n",
       "4                0  @nationwideclass no, it's not behaving at all...."
      ]
     },
     "execution_count": 31,
     "metadata": {},
     "output_type": "execute_result"
    }
   ],
   "source": [
    "train.head()"
   ]
  },
  {
   "cell_type": "markdown",
   "id": "d6c1103f",
   "metadata": {},
   "source": [
    "#### Replace sentiment_score `4` by `1`"
   ]
  },
  {
   "cell_type": "code",
   "execution_count": 32,
   "id": "58a2c2ba",
   "metadata": {},
   "outputs": [],
   "source": [
    "# replace values of columns by using DataFrame.loc[] property.\n",
    "train.loc[train[\"sentiment_score\"]==4, \"sentiment_score\"] = 1\n",
    "test.loc[test[\"sentiment_score\"]==4, \"sentiment_score\"] = 1"
   ]
  },
  {
   "cell_type": "markdown",
   "id": "744be5c2",
   "metadata": {},
   "source": [
    "#### Distribution of sentiment_score in both train and test dataset"
   ]
  },
  {
   "cell_type": "code",
   "execution_count": 33,
   "id": "d608d53d",
   "metadata": {},
   "outputs": [
    {
     "data": {
      "text/plain": [
       "0    800000\n",
       "1    800000\n",
       "Name: sentiment_score, dtype: int64"
      ]
     },
     "execution_count": 33,
     "metadata": {},
     "output_type": "execute_result"
    }
   ],
   "source": [
    "train.sentiment_score.value_counts()"
   ]
  },
  {
   "cell_type": "markdown",
   "id": "05f5eac3",
   "metadata": {},
   "source": [
    "_We are having 0.8M tweets for both labels `0` and `1`_"
   ]
  },
  {
   "cell_type": "code",
   "execution_count": 34,
   "id": "f0f9eedf",
   "metadata": {},
   "outputs": [
    {
     "data": {
      "text/plain": [
       "1    182\n",
       "0    177\n",
       "2    139\n",
       "Name: sentiment_score, dtype: int64"
      ]
     },
     "execution_count": 34,
     "metadata": {},
     "output_type": "execute_result"
    }
   ],
   "source": [
    "test.sentiment_score.value_counts()"
   ]
  },
  {
   "cell_type": "markdown",
   "id": "936d55ae",
   "metadata": {},
   "source": [
    "_In test dataset we are having additional class `2` which are not available in the train dataset. So, we will remove this class from the test dataset._"
   ]
  },
  {
   "cell_type": "code",
   "execution_count": 35,
   "id": "060e9b5c",
   "metadata": {},
   "outputs": [
    {
     "data": {
      "text/plain": [
       "1    182\n",
       "0    177\n",
       "Name: sentiment_score, dtype: int64"
      ]
     },
     "execution_count": 35,
     "metadata": {},
     "output_type": "execute_result"
    }
   ],
   "source": [
    "test = test[test.sentiment_score.isin([0,1])]\n",
    "test.sentiment_score.value_counts()"
   ]
  },
  {
   "cell_type": "code",
   "execution_count": null,
   "id": "e414f4b4",
   "metadata": {},
   "outputs": [],
   "source": []
  },
  {
   "cell_type": "markdown",
   "id": "26b5deea",
   "metadata": {},
   "source": [
    "#### Preprocess the tweet\n",
    "\n",
    "- removing https links\n",
    "- removing words preceding by @(mentions)\n",
    "- remove #\n",
    "- remove RT (retweet) \n",
    "- removing word of length greate than 17 (because, generally we don't use word greate than of this length)\n",
    "- correct the words like\n",
    "            - 'aaahhhh' ---> ah\n",
    "            - 'wwwwaaahhhhh' ---> 'wah'\n",
    "    \n",
    "- split the words which were grouped together unintentionally using `wordninja` library\n",
    "        - 'ilikethis' --> 'i like this'\n",
    "        etc."
   ]
  },
  {
   "cell_type": "code",
   "execution_count": 36,
   "id": "296b28bd",
   "metadata": {},
   "outputs": [],
   "source": [
    "# function to clean text\n",
    "# !pip install wordninja\n",
    "import wordninja\n",
    "import re\n",
    "import string\n",
    "from bs4 import BeautifulSoup\n",
    "def cleanText(text):\n",
    "    \n",
    "    # remove html tags (if any)\n",
    "    text = (BeautifulSoup(text)).get_text()\n",
    "    \n",
    "    # first of all replace abbreviations\n",
    "    text = text.replace(\"′\", \" \").replace(\"’\", \" \").replace(\".\",\"\").replace(\"!\",\" \")\\\n",
    "                           .replace(\",\", \" \").replace(\"?\",\" \")\\\n",
    "                           .replace(\"won't\", \"will not\").replace(\"cannot\", \"can not\").replace(\"can't\", \"can not\")\\\n",
    "                           .replace(\"n't\", \" not\").replace(\"what's\", \"what is\").replace(\"it's\", \"it is\")\\\n",
    "                           .replace(\"'ve\", \" have\").replace(\"i'm\", \"i am\").replace(\"'re\", \" are\")\\\n",
    "                           .replace(\"he's\", \"he is\").replace(\"that's\",\"that is\").replace(\"she's\", \"she is\").replace(\"'s\", \" own\")\\\n",
    "                           .replace(\"'ll\", \" will\").replace(\"couldn't\",\"could not\")\n",
    "    \n",
    "    text = re.sub(r\"@[A-Za-z0-9]+\", \"\", text) # removing @mentions\n",
    "    text = re.sub(r\"#\", \"\", text) # removing the \"#\" symbol\n",
    "    text = re.sub(r\"RT[\\s]+\", \"\", text) # removing RT\n",
    "    text = re.sub(r\"https?:\\/\\/\\S+\", \"\", text) # removing hyper links\n",
    "    text = re.sub(r\"\\s+\", \" \", text) # substituting multiple spaces into one\n",
    "    \n",
    "    # remove punctuations\n",
    "    text = text.translate(str.maketrans(\"\", \"\", string.punctuation))\n",
    "    text = text.strip()\n",
    "    \n",
    "    # do a few other processing on words\n",
    "    # by the observation we realized that there are a few words which\n",
    "    # consists of very long length and the words like this\n",
    "    # aaaaaaaaaaaahhhhhhhhhhhhhhh\n",
    "    # wwwwaaaaaaaaaaaaaahhhhhhhhhhhhh\n",
    "    # So, just process it\n",
    "    sentence = []\n",
    "    # Wordninja will split the text in a way like \"iamagoodboy\"-->[\"I\",\"am\",\"a\",\"good\",\"boy\"]\n",
    "    for word in text.split():\n",
    "        # remove word of length greater than 17. Link :::: https://arxiv.org/ftp/arxiv/papers/1207/1207.2334.pdf\n",
    "        if len(word)<17: # remove the words greater than len 17\n",
    "            if len(word)>6 and len(set(word))<=3:\n",
    "                # then, do the processing like\n",
    "                # wwwwaaaahhhh ---> wah\n",
    "                temp_word = []\n",
    "                prev_char = word[0]\n",
    "                temp_word.append(prev_char)\n",
    "                for character in list(word):\n",
    "                    if character!=prev_char:\n",
    "                        temp_word.append(character)\n",
    "                        prev_char = character\n",
    "                \n",
    "                sentence.append(''.join(temp_word))\n",
    "            elif len(word)>2 and len(set(word))<=2:\n",
    "                continue\n",
    "            else:\n",
    "                sentence.append(word)\n",
    "    sentence = ' '.join(sentence)\n",
    "    sentence = ' '.join(wordninja.split(sentence))\n",
    "    return sentence"
   ]
  },
  {
   "cell_type": "code",
   "execution_count": 37,
   "id": "60ef8f04",
   "metadata": {},
   "outputs": [
    {
     "data": {
      "text/plain": [
       "'ah wah wah that is a bummer iam a good boy You should a got David Carr of Third Day to do it D'"
      ]
     },
     "execution_count": 37,
     "metadata": {},
     "output_type": "execute_result"
    }
   ],
   "source": [
    "cleanText(\"@switchfoot aaaaahhhhhhh wwaahhwaahhh wwwwwwwwwwwahhhhhhhhhhhhhhhhhhhhhhh http://twitpic.com/2y1zl - <b>Awww, that's a bummer</b>. iamagoodboy You shoulda got David Carr of Third Day to do it. ;D\")"
   ]
  },
  {
   "cell_type": "code",
   "execution_count": 50,
   "id": "b3521da0",
   "metadata": {},
   "outputs": [
    {
     "name": "stdout",
     "output_type": "stream",
     "text": [
      "time taken to preprocess train(1600000 datapoints) dataset: 1962.190800666809 s\n"
     ]
    }
   ],
   "source": [
    "t0 = time()\n",
    "train[\"tweet\"] = train[\"tweet\"].apply(cleanText)\n",
    "print(f\"time taken to preprocess train({train.shape[0]} datapoints) dataset: {time()-t0} s\")"
   ]
  },
  {
   "cell_type": "code",
   "execution_count": 51,
   "id": "1551944b",
   "metadata": {},
   "outputs": [
    {
     "name": "stdout",
     "output_type": "stream",
     "text": [
      "time taken to preprocess test(359 datapoints) dataset: 0.16105151176452637 s\n"
     ]
    }
   ],
   "source": [
    "t0 = time()\n",
    "test[\"tweet\"] = test[\"tweet\"].apply(cleanText)\n",
    "print(f\"time taken to preprocess test({test.shape[0]} datapoints) dataset: {time()-t0} s\")"
   ]
  },
  {
   "cell_type": "markdown",
   "id": "3379bb72",
   "metadata": {},
   "source": [
    "#### Removing rows where tweet is NaN after preprocessing"
   ]
  },
  {
   "cell_type": "code",
   "execution_count": 52,
   "id": "c6214e26",
   "metadata": {},
   "outputs": [
    {
     "data": {
      "text/plain": [
       "(sentiment_score    0\n",
       " tweet              0\n",
       " dtype: int64,\n",
       " sentiment_score    0\n",
       " tweet              0\n",
       " dtype: int64)"
      ]
     },
     "execution_count": 52,
     "metadata": {},
     "output_type": "execute_result"
    }
   ],
   "source": [
    "train.isna().sum(), test.isna().sum()"
   ]
  },
  {
   "cell_type": "code",
   "execution_count": 53,
   "id": "31e77b1e",
   "metadata": {},
   "outputs": [],
   "source": [
    "# removing rows where there NaN in tweet column for both (train and test)\n",
    "train.dropna(inplace=True)\n",
    "test.dropna(inplace=True)"
   ]
  },
  {
   "cell_type": "code",
   "execution_count": 108,
   "id": "7d01439d",
   "metadata": {},
   "outputs": [],
   "source": [
    "# remove the rows where the value of tweet is empty string\n",
    "train.drop(train[train.tweet==''].index, inplace=True)\n",
    "test.drop(test[test.tweet==''].index, inplace=True)"
   ]
  },
  {
   "cell_type": "code",
   "execution_count": 109,
   "id": "c26d1185",
   "metadata": {},
   "outputs": [
    {
     "data": {
      "text/plain": [
       "((1595743, 2), (359, 2))"
      ]
     },
     "execution_count": 109,
     "metadata": {},
     "output_type": "execute_result"
    }
   ],
   "source": [
    "train.shape, test.shape"
   ]
  },
  {
   "cell_type": "markdown",
   "id": "b3bff9db",
   "metadata": {},
   "source": [
    "#### Save the model"
   ]
  },
  {
   "cell_type": "code",
   "execution_count": 110,
   "id": "980e7c83",
   "metadata": {},
   "outputs": [],
   "source": [
    "train.to_csv(open(dataset_dir/\"train_new.csv\", \"wb\"), index=None)\n",
    "test.to_csv(open(dataset_dir/\"test_new.csv\",\"wb\"), index=None)"
   ]
  },
  {
   "cell_type": "markdown",
   "id": "9ef615d3",
   "metadata": {},
   "source": [
    "_We can use this dataset for further training ML and DL Models._"
   ]
  },
  {
   "cell_type": "code",
   "execution_count": null,
   "id": "d182f536",
   "metadata": {},
   "outputs": [],
   "source": []
  },
  {
   "cell_type": "markdown",
   "id": "2153fdbd",
   "metadata": {},
   "source": [
    "__Wordninja__ is a library which split the words which were grouped \n",
    "\n",
    "    - We used it in our preprocessing steps\n",
    "    - \"iamagoodboy\" --> ['i','am','a','good','boy']"
   ]
  },
  {
   "cell_type": "code",
   "execution_count": 58,
   "id": "0d864e1f",
   "metadata": {},
   "outputs": [],
   "source": [
    "import wordninja"
   ]
  },
  {
   "cell_type": "code",
   "execution_count": 59,
   "id": "22d8fd08",
   "metadata": {},
   "outputs": [
    {
     "data": {
      "text/plain": [
       "['iam',\n",
       " 'a',\n",
       " 'data',\n",
       " 'scientist',\n",
       " 'whether',\n",
       " 'you',\n",
       " 'believe',\n",
       " 'it',\n",
       " 'or',\n",
       " 'not',\n",
       " 'I',\n",
       " \"don't\",\n",
       " 'care']"
      ]
     },
     "execution_count": 59,
     "metadata": {},
     "output_type": "execute_result"
    }
   ],
   "source": [
    "wordninja.split(\"iamadatascientistwhetheryoubelieveitornotIdon'tcare.\")"
   ]
  },
  {
   "cell_type": "code",
   "execution_count": null,
   "id": "2f6236a5",
   "metadata": {},
   "outputs": [],
   "source": []
  }
 ],
 "metadata": {
  "kernelspec": {
   "display_name": "Python 3 (ipykernel)",
   "language": "python",
   "name": "python3"
  },
  "language_info": {
   "codemirror_mode": {
    "name": "ipython",
    "version": 3
   },
   "file_extension": ".py",
   "mimetype": "text/x-python",
   "name": "python",
   "nbconvert_exporter": "python",
   "pygments_lexer": "ipython3",
   "version": "3.8.13"
  }
 },
 "nbformat": 4,
 "nbformat_minor": 5
}
